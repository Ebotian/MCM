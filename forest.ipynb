{
 "cells": [
  {
   "cell_type": "code",
   "execution_count": 158,
   "metadata": {},
   "outputs": [
    {
     "name": "stdout",
     "output_type": "stream",
     "text": [
      "0       0\n",
      "1       1\n",
      "2       0\n",
      "3       1\n",
      "4       1\n",
      "       ..\n",
      "7279    1\n",
      "7280    1\n",
      "7281    0\n",
      "7282    1\n",
      "7283    1\n",
      "Name: point_victor, Length: 7284, dtype: int64\n",
      "2023-wimbledon-1301\n"
     ]
    }
   ],
   "source": [
    "import pandas as pd\n",
    "import numpy as np\n",
    "from sklearn.model_selection import train_test_split\n",
    "from sklearn.ensemble import RandomForestClassifier\n",
    "from sklearn.metrics import accuracy_score\n",
    "from sklearn.preprocessing import StandardScaler\n",
    "\n",
    "############ load and digitize the data\n",
    "data=pd.read_csv('/home/ebotian/MCM/tennis.csv')\n",
    "data = pd.get_dummies(data, columns=['winner_shot_type','serve_width','serve_depth','return_depth'])\n",
    "############\n",
    "\n",
    "#feature_list=data.columns.tolist()\n",
    "\n",
    "#print(feature_list)\n",
    "\n",
    "############# pre-process the data\n",
    "# fill nan with 0, and replace AD with 50\n",
    "data = data.fillna(0)\n",
    "data = data.replace('AD', 50.0)\n",
    "data['point_victor']=data[\"point_victor\"].replace(2,0)\n",
    "print(data.iloc[:,15])\n",
    "\n",
    "# split the data into different match\n",
    "grouped = dict(tuple(data.groupby(data['match_id'].ne(data['match_id'].shift()).cumsum())))\n",
    "\n",
    "# Rename the subdata\n",
    "subdata = {df['match_id'].iloc[0]: df for _, df in grouped.items()}\n",
    "\n",
    "# Create a new dataset from the first column, excluding duplicates\n",
    "match_id = pd.DataFrame(data.iloc[:, 0].drop_duplicates()).iloc[:,0].tolist()\n",
    "print(match_id[0])\n",
    "##############\n",
    "\n",
    "# check all data\n",
    "#data.to_csv('output.csv',index=False)"
   ]
  },
  {
   "cell_type": "code",
   "execution_count": 159,
   "metadata": {},
   "outputs": [
    {
     "name": "stdout",
     "output_type": "stream",
     "text": [
      "Average interval (excluding top 5% and bottom 5%): 0 days 00:00:43.784090909\n"
     ]
    }
   ],
   "source": [
    "# Convert the timestamp column to datetime format\n",
    "subdata[match_id[0]]['elapsed_time'] = pd.to_timedelta(subdata[match_id[0]]['elapsed_time'])\n",
    "\n",
    "# Calculate the time difference between consecutive rows\n",
    "subdata[match_id[0]]['time_diff'] = subdata[match_id[0]]['elapsed_time'].diff()\n",
    "\n",
    "# Calculate the 5th and 95th percentiles\n",
    "lower_threshold = subdata[match_id[0]]['time_diff'].quantile(0.05)\n",
    "upper_threshold = subdata[match_id[0]]['time_diff'].quantile(0.95)\n",
    "\n",
    "# Exclude the top 5% and bottom 5% of periods\n",
    "filtered_diff = subdata[match_id[0]]['time_diff'][(subdata[match_id[0]]['time_diff'] > lower_threshold) & (subdata[match_id[0]]['time_diff'] < upper_threshold)]\n",
    "\n",
    "# Calculate the average of the remaining intervals\n",
    "average_interval = filtered_diff.mean()\n",
    "\n",
    "print(f'Average interval (excluding top 5% and bottom 5%): {average_interval}')\n",
    "\n",
    "# Convert the time differences to integer seconds\n",
    "subdata[match_id[0]]['time_diff'] = subdata[match_id[0]]['time_diff'].dt.total_seconds()\n",
    "\n",
    "# Replace 'NaT' values with 0\n",
    "subdata[match_id[0]]['time_diff'] = subdata[match_id[0]]['time_diff'].fillna(0).astype(int)\n",
    "#fill nan with 0\n",
    "#subdata[match_id[0]]['time_diff'] = subdata[match_id[0]]['time_diff'].fillna(0)"
   ]
  },
  {
   "cell_type": "code",
   "execution_count": 160,
   "metadata": {},
   "outputs": [],
   "source": [
    "############ add features\n",
    "\n",
    "add_feature=[\"score_diff\"]\n",
    "#add_feature_2='p1_score_ratio'\n",
    "#add_feature_3='p2_score_ratio'\n",
    "#add_feature_4='p1_break_pt_efficiency'\n",
    "#add_feature_5='p2_break_pt_efficiency'"
   ]
  },
  {
   "cell_type": "code",
   "execution_count": 161,
   "metadata": {},
   "outputs": [],
   "source": [
    "########## defining the new features\n",
    "\n",
    "#example: subdata[match_id[0]][add_feature[0]] = subdata[match_id[0]]['p1_games'] - subdata[match_id[0]]['p2_games']\n",
    "\n",
    "\n",
    "#data[add_feature_1] = data['p1_games'] - data['p2_games']\n",
    "#data[add_feature_2] = data['p1_winner'] / (data['p1_winner'] + data['p2_winner'])\n",
    "#data[add_feature_3] = data['p2_winner'] / (data['p1_winner'] + data['p2_winner'])\n",
    "#data[add_feature_4] = data['p1_break_pt_won'] / (data['p1_break_pt_won'] + data['p1_break_pt_missed'])\n",
    "#data[add_feature_5] = data['p2_break_pt_won'] / (data['p2_break_pt_won'] + data['p2_break_pt_missed'])\n"
   ]
  },
  {
   "cell_type": "code",
   "execution_count": 162,
   "metadata": {},
   "outputs": [],
   "source": [
    "# split the data into target and features\n",
    "target=pd.DataFrame(subdata[match_id[0]][\"point_victor\"])\n",
    "\n",
    "subdata[match_id[0]]=subdata[match_id[0]].drop(columns=[\"point_victor\"])\n",
    "features=subdata[match_id[0]].iloc[:,4:]\n",
    "#print(features)"
   ]
  },
  {
   "cell_type": "code",
   "execution_count": 163,
   "metadata": {},
   "outputs": [],
   "source": [
    "#print(features.isna().sum())"
   ]
  },
  {
   "cell_type": "code",
   "execution_count": 164,
   "metadata": {},
   "outputs": [],
   "source": [
    "\n",
    "# 数据划分\n",
    "X_train, X_test, y_train, y_test = train_test_split(features, target, test_size=0.3, random_state=42)\n",
    "\n",
    "#print(X_train.isna().sum())"
   ]
  },
  {
   "cell_type": "code",
   "execution_count": 166,
   "metadata": {},
   "outputs": [
    {
     "name": "stderr",
     "output_type": "stream",
     "text": [
      "/usr/lib/python3.11/site-packages/sklearn/base.py:1152: DataConversionWarning: A column-vector y was passed when a 1d array was expected. Please change the shape of y to (n_samples,), for example using ravel().\n",
      "  return fit_method(estimator, *args, **kwargs)\n"
     ]
    },
    {
     "data": {
      "text/html": [
       "<style>#sk-container-id-1 {color: black;}#sk-container-id-1 pre{padding: 0;}#sk-container-id-1 div.sk-toggleable {background-color: white;}#sk-container-id-1 label.sk-toggleable__label {cursor: pointer;display: block;width: 100%;margin-bottom: 0;padding: 0.3em;box-sizing: border-box;text-align: center;}#sk-container-id-1 label.sk-toggleable__label-arrow:before {content: \"▸\";float: left;margin-right: 0.25em;color: #696969;}#sk-container-id-1 label.sk-toggleable__label-arrow:hover:before {color: black;}#sk-container-id-1 div.sk-estimator:hover label.sk-toggleable__label-arrow:before {color: black;}#sk-container-id-1 div.sk-toggleable__content {max-height: 0;max-width: 0;overflow: hidden;text-align: left;background-color: #f0f8ff;}#sk-container-id-1 div.sk-toggleable__content pre {margin: 0.2em;color: black;border-radius: 0.25em;background-color: #f0f8ff;}#sk-container-id-1 input.sk-toggleable__control:checked~div.sk-toggleable__content {max-height: 200px;max-width: 100%;overflow: auto;}#sk-container-id-1 input.sk-toggleable__control:checked~label.sk-toggleable__label-arrow:before {content: \"▾\";}#sk-container-id-1 div.sk-estimator input.sk-toggleable__control:checked~label.sk-toggleable__label {background-color: #d4ebff;}#sk-container-id-1 div.sk-label input.sk-toggleable__control:checked~label.sk-toggleable__label {background-color: #d4ebff;}#sk-container-id-1 input.sk-hidden--visually {border: 0;clip: rect(1px 1px 1px 1px);clip: rect(1px, 1px, 1px, 1px);height: 1px;margin: -1px;overflow: hidden;padding: 0;position: absolute;width: 1px;}#sk-container-id-1 div.sk-estimator {font-family: monospace;background-color: #f0f8ff;border: 1px dotted black;border-radius: 0.25em;box-sizing: border-box;margin-bottom: 0.5em;}#sk-container-id-1 div.sk-estimator:hover {background-color: #d4ebff;}#sk-container-id-1 div.sk-parallel-item::after {content: \"\";width: 100%;border-bottom: 1px solid gray;flex-grow: 1;}#sk-container-id-1 div.sk-label:hover label.sk-toggleable__label {background-color: #d4ebff;}#sk-container-id-1 div.sk-serial::before {content: \"\";position: absolute;border-left: 1px solid gray;box-sizing: border-box;top: 0;bottom: 0;left: 50%;z-index: 0;}#sk-container-id-1 div.sk-serial {display: flex;flex-direction: column;align-items: center;background-color: white;padding-right: 0.2em;padding-left: 0.2em;position: relative;}#sk-container-id-1 div.sk-item {position: relative;z-index: 1;}#sk-container-id-1 div.sk-parallel {display: flex;align-items: stretch;justify-content: center;background-color: white;position: relative;}#sk-container-id-1 div.sk-item::before, #sk-container-id-1 div.sk-parallel-item::before {content: \"\";position: absolute;border-left: 1px solid gray;box-sizing: border-box;top: 0;bottom: 0;left: 50%;z-index: -1;}#sk-container-id-1 div.sk-parallel-item {display: flex;flex-direction: column;z-index: 1;position: relative;background-color: white;}#sk-container-id-1 div.sk-parallel-item:first-child::after {align-self: flex-end;width: 50%;}#sk-container-id-1 div.sk-parallel-item:last-child::after {align-self: flex-start;width: 50%;}#sk-container-id-1 div.sk-parallel-item:only-child::after {width: 0;}#sk-container-id-1 div.sk-dashed-wrapped {border: 1px dashed gray;margin: 0 0.4em 0.5em 0.4em;box-sizing: border-box;padding-bottom: 0.4em;background-color: white;}#sk-container-id-1 div.sk-label label {font-family: monospace;font-weight: bold;display: inline-block;line-height: 1.2em;}#sk-container-id-1 div.sk-label-container {text-align: center;}#sk-container-id-1 div.sk-container {/* jupyter's `normalize.less` sets `[hidden] { display: none; }` but bootstrap.min.css set `[hidden] { display: none !important; }` so we also need the `!important` here to be able to override the default hidden behavior on the sphinx rendered scikit-learn.org. See: https://github.com/scikit-learn/scikit-learn/issues/21755 */display: inline-block !important;position: relative;}#sk-container-id-1 div.sk-text-repr-fallback {display: none;}</style><div id=\"sk-container-id-1\" class=\"sk-top-container\"><div class=\"sk-text-repr-fallback\"><pre>RandomForestClassifier(random_state=42)</pre><b>In a Jupyter environment, please rerun this cell to show the HTML representation or trust the notebook. <br />On GitHub, the HTML representation is unable to render, please try loading this page with nbviewer.org.</b></div><div class=\"sk-container\" hidden><div class=\"sk-item\"><div class=\"sk-estimator sk-toggleable\"><input class=\"sk-toggleable__control sk-hidden--visually\" id=\"sk-estimator-id-1\" type=\"checkbox\" checked><label for=\"sk-estimator-id-1\" class=\"sk-toggleable__label sk-toggleable__label-arrow\">RandomForestClassifier</label><div class=\"sk-toggleable__content\"><pre>RandomForestClassifier(random_state=42)</pre></div></div></div></div></div>"
      ],
      "text/plain": [
       "RandomForestClassifier(random_state=42)"
      ]
     },
     "execution_count": 166,
     "metadata": {},
     "output_type": "execute_result"
    }
   ],
   "source": [
    "\n",
    "# 数据标准化\n",
    "scaler = StandardScaler()\n",
    "X_train_scaled = scaler.fit_transform(X_train)\n",
    "X_test_scaled = scaler.transform(X_test)\n",
    "\n",
    "# 模型训练\n",
    "clf = RandomForestClassifier(n_estimators=100, random_state=42)\n",
    "clf.fit(X_train_scaled, y_train)\n",
    "\n",
    "#print(X_test_scaled)"
   ]
  },
  {
   "cell_type": "code",
   "execution_count": 167,
   "metadata": {},
   "outputs": [
    {
     "name": "stdout",
     "output_type": "stream",
     "text": [
      "[1 0 0 1 0 0 1 0 0 0 0 1 0 0 1 0 1 1 0 1 0 0 0 1 1 1 1 1 1 1 0 0 1 0 0 1 0\n",
      " 1 1 0 1 0 0 1 0 0 1 1 1 0 1 0 0 0 1 1 1 0 1 0 1 0 1 1 1 0 1 0 0 1 0 1 0 0\n",
      " 1 1 1 1 0 0 0 1 1 0 1 1 1 0 0 0]\n"
     ]
    }
   ],
   "source": [
    "\n",
    "# 模型预测\n",
    "y_pred = clf.predict(X_test_scaled)\n",
    "\n",
    "print(y_pred)"
   ]
  },
  {
   "cell_type": "code",
   "execution_count": 168,
   "metadata": {},
   "outputs": [
    {
     "name": "stdout",
     "output_type": "stream",
     "text": [
      "模型准确率: 0.9\n",
      "p2_unf_err            0.091219\n",
      "p1_unf_err            0.088234\n",
      "server                0.079603\n",
      "p2_winner             0.063790\n",
      "p2_distance_run       0.060896\n",
      "rally_count           0.054003\n",
      "p1_distance_run       0.053502\n",
      "p1_winner             0.046627\n",
      "speed_mph             0.039556\n",
      "p2_net_pt_won         0.036565\n",
      "time_diff             0.035225\n",
      "p1_points_won         0.034677\n",
      "point_no              0.026210\n",
      "p2_points_won         0.025795\n",
      "p1_score              0.022302\n",
      "game_victor           0.020121\n",
      "game_no               0.018135\n",
      "p2_games              0.016764\n",
      "p1_net_pt_won         0.015626\n",
      "p2_score              0.015496\n",
      "p1_games              0.014893\n",
      "serve_no              0.011759\n",
      "p2_ace                0.009918\n",
      "serve_width_BW        0.008863\n",
      "return_depth_ND       0.008705\n",
      "return_depth_D        0.007917\n",
      "set_no                0.007223\n",
      "p2_net_pt             0.006832\n",
      "p1_double_fault       0.006710\n",
      "serve_width_BC        0.005751\n",
      "serve_depth_CTL       0.005520\n",
      "p1_sets               0.005449\n",
      "serve_depth_NCTL      0.005120\n",
      "winner_shot_type_0    0.004405\n",
      "serve_width_B         0.004336\n",
      "serve_width_W         0.004306\n",
      "winner_shot_type_F    0.004249\n",
      "p1_net_pt             0.004233\n",
      "serve_width_C         0.004209\n",
      "p1_break_pt_won       0.004013\n",
      "p1_break_pt_missed    0.003985\n",
      "p1_ace                0.003632\n",
      "p2_break_pt_won       0.003293\n",
      "p2_sets               0.002893\n",
      "p2_break_pt           0.002529\n",
      "p1_break_pt           0.001862\n",
      "winner_shot_type_B    0.001177\n",
      "p2_double_fault       0.000857\n",
      "set_victor            0.000684\n",
      "p2_break_pt_missed    0.000330\n",
      "dtype: float64\n"
     ]
    }
   ],
   "source": [
    "\n",
    "# 模型评估\n",
    "accuracy = accuracy_score(y_test, y_pred)\n",
    "print(f'模型准确率: {accuracy}')\n",
    "\n",
    "# 可以考虑输出特征重要性，帮助理解哪些因素对预测结果影响较大\n",
    "importances = clf.feature_importances_\n",
    "feature_names = X_train.columns\n",
    "feature_importances = pd.Series(importances, index=feature_names).sort_values(ascending=False)\n",
    "print(feature_importances)"
   ]
  }
 ],
 "metadata": {
  "kernelspec": {
   "display_name": "Python 3",
   "language": "python",
   "name": "python3"
  },
  "language_info": {
   "codemirror_mode": {
    "name": "ipython",
    "version": 3
   },
   "file_extension": ".py",
   "mimetype": "text/x-python",
   "name": "python",
   "nbconvert_exporter": "python",
   "pygments_lexer": "ipython3",
   "version": "3.11.6"
  }
 },
 "nbformat": 4,
 "nbformat_minor": 2
}
