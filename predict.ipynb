{
 "cells": [
  {
   "cell_type": "code",
   "execution_count": 18,
   "metadata": {},
   "outputs": [],
   "source": [
    "import pandas as pd\n",
    "\n",
    "############ load and digitize the data\n",
    "data=pd.read_csv('/home/ebotian/MCM/tennis.csv')\n",
    "data = pd.get_dummies(data, columns=['winner_shot_type','serve_width','serve_depth','return_depth'])\n",
    "############\n",
    "\n",
    "############# pre-process the data\n",
    "# fill nan with 0, and replace AD with 50\n",
    "data = data.fillna(0)\n",
    "data = data.replace('AD', 50.0)\n",
    "data['point_victor']=data[\"point_victor\"].replace(2,0)\n",
    "#print(data.iloc[:,15])\n",
    "\n",
    "# split the data into different match\n",
    "grouped = dict(tuple(data.groupby(data['match_id'].ne(data['match_id'].shift()).cumsum())))\n",
    "\n",
    "# Rename the subdata\n",
    "subdata = {df['match_id'].iloc[0]: df for _, df in grouped.items()}\n",
    "\n",
    "# Create a new dataset from the first column, excluding duplicates\n",
    "match = pd.DataFrame(data.iloc[:, 0].drop_duplicates()).iloc[:,0].tolist()\n",
    "#print(match_id[0])\n",
    "##############\n"
   ]
  },
  {
   "cell_type": "code",
   "execution_count": 19,
   "metadata": {},
   "outputs": [],
   "source": [
    "# the id of the match\n",
    "id=0"
   ]
  },
  {
   "cell_type": "code",
   "execution_count": 20,
   "metadata": {},
   "outputs": [
    {
     "name": "stdout",
     "output_type": "stream",
     "text": [
      "Average interval (excluding top 5% and bottom 5%): 0 days 00:00:43.784090909\n"
     ]
    }
   ],
   "source": [
    "# Calculate the time difference between consecutive rows\n",
    "\n",
    "# Convert the timestamp column to datetime format\n",
    "subdata[match[id]]['elapsed_time'] = pd.to_timedelta(subdata[match[id]]['elapsed_time'])\n",
    "\n",
    "# Calculate the time difference between consecutive rows\n",
    "subdata[match[id]]['time_diff'] = subdata[match[id]]['elapsed_time'].diff()\n",
    "\n",
    "# Calculate the 5th and 95th percentiles\n",
    "lower_threshold = subdata[match[id]]['time_diff'].quantile(0.05)\n",
    "upper_threshold = subdata[match[id]]['time_diff'].quantile(0.95)\n",
    "\n",
    "# Exclude the top 5% and bottom 5% of periods\n",
    "filtered_diff = subdata[match[id]]['time_diff'][(subdata[match[id]]['time_diff'] > lower_threshold) & (subdata[match[id]]['time_diff'] < upper_threshold)]\n",
    "\n",
    "# Calculate the average of the remaining intervals\n",
    "average_interval = filtered_diff.mean()\n",
    "\n",
    "print(f'Average interval (excluding top 5% and bottom 5%): {average_interval}')\n",
    "\n",
    "# Convert the time differences to integer seconds\n",
    "subdata[match[id]]['time_diff'] = subdata[match[id]]['time_diff'].dt.total_seconds()\n",
    "\n",
    "# Replace 'NaT' values with 0\n",
    "subdata[match[id]]['time_diff'] = subdata[match[id]]['time_diff'].fillna(0).astype(int)\n",
    "#fill nan with 0\n",
    "#subdata[match[id]]['time_diff'] = subdata[match[id]]['time_diff'].fillna(0)"
   ]
  },
  {
   "cell_type": "code",
   "execution_count": 21,
   "metadata": {},
   "outputs": [],
   "source": [
    "############ add features\n",
    "add_feature=[\"score_diff\"]\n",
    "\n",
    "########## defining the new features\n",
    "\n",
    "#subdata[match_id[0]][add_feature[0]] = subdata[match_id[0]]['p1_games'] - subdata[match_id[0]]['p2_games']"
   ]
  },
  {
   "cell_type": "code",
   "execution_count": 22,
   "metadata": {},
   "outputs": [],
   "source": [
    "# split the data into features and target\n",
    "target=pd.DataFrame(subdata[match[id]][\"point_victor\"])\n",
    "\n",
    "subdata[match[id]]=subdata[match[id]].drop(columns=[\"point_victor\"])\n",
    "features=subdata[match[id]].iloc[:,4:]\n",
    "#print(features)"
   ]
  },
  {
   "cell_type": "code",
   "execution_count": 25,
   "metadata": {},
   "outputs": [
    {
     "ename": "AttributeError",
     "evalue": "'Sequential' object has no attribute 'predict_classes'",
     "output_type": "error",
     "traceback": [
      "\u001b[0;31m---------------------------------------------------------------------------\u001b[0m",
      "\u001b[0;31mAttributeError\u001b[0m                            Traceback (most recent call last)",
      "Cell \u001b[0;32mIn[25], line 30\u001b[0m\n\u001b[1;32m     27\u001b[0m model\u001b[38;5;241m.\u001b[39mfit(X_train, y_train, epochs\u001b[38;5;241m=\u001b[39m\u001b[38;5;241m50\u001b[39m, verbose\u001b[38;5;241m=\u001b[39m\u001b[38;5;241m0\u001b[39m)\n\u001b[1;32m     29\u001b[0m \u001b[38;5;66;03m# Make predictions for the test set\u001b[39;00m\n\u001b[0;32m---> 30\u001b[0m predictions \u001b[38;5;241m=\u001b[39m \u001b[43mmodel\u001b[49m\u001b[38;5;241;43m.\u001b[39;49m\u001b[43mpredict_classes\u001b[49m(X_test)\n",
      "\u001b[0;31mAttributeError\u001b[0m: 'Sequential' object has no attribute 'predict_classes'"
     ]
    }
   ],
   "source": [
    "from keras.models import Sequential\n",
    "from keras.layers import LSTM, Dense\n",
    "from sklearn.model_selection import train_test_split\n",
    "\n",
    "# Assuming 'features' is your input data and 'target' is your output data...\n",
    "\n",
    "# Split data into training set and test set\n",
    "X_train, X_test, y_train, y_test = train_test_split(features, target, test_size=0.2, shuffle=False)\n",
    "\n",
    "# Reshape input data for LSTM (samples, timesteps, features)\n",
    "X_train = X_train.values.reshape((X_train.shape[0], 1, X_train.shape[1])).astype(float)\n",
    "X_test = X_test.values.reshape((X_test.shape[0], 1, X_test.shape[1])).astype(float)\n",
    "\n",
    "# Convert target to numpy array\n",
    "y_train = y_train.values\n",
    "y_test = y_test.values\n",
    "\n",
    "# Define LSTM model\n",
    "model = Sequential()\n",
    "model.add(LSTM(50, activation='relu', input_shape=(1, X_train.shape[2])))\n",
    "model.add(Dense(1, activation='sigmoid'))\n",
    "\n",
    "# Compile the model\n",
    "model.compile(optimizer='adam', loss='binary_crossentropy', metrics=['accuracy'])\n",
    "\n",
    "# Fit the model\n",
    "model.fit(X_train, y_train, epochs=50, verbose=0)\n",
    "\n",
    "# Make predictions for the test set\n",
    "predictions = model.predict_classes(X_test)"
   ]
  }
 ],
 "metadata": {
  "kernelspec": {
   "display_name": "Python 3",
   "language": "python",
   "name": "python3"
  },
  "language_info": {
   "codemirror_mode": {
    "name": "ipython",
    "version": 3
   },
   "file_extension": ".py",
   "mimetype": "text/x-python",
   "name": "python",
   "nbconvert_exporter": "python",
   "pygments_lexer": "ipython3",
   "version": "3.11.6"
  }
 },
 "nbformat": 4,
 "nbformat_minor": 2
}
